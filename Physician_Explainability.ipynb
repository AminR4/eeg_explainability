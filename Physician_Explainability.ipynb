{
 "cells": [
  {
   "cell_type": "markdown",
   "metadata": {},
   "source": [
    "# Explainability fo physicians"
   ]
  },
  {
   "cell_type": "markdown",
   "metadata": {},
   "source": [
    "## Load cached train test set"
   ]
  },
  {
   "cell_type": "code",
   "execution_count": 1,
   "metadata": {},
   "outputs": [],
   "source": [
    "import pickle\n",
    "import numpy as np\n",
    "import pandas as pd\n",
    "\n",
    "train_test_pickle_path = open(\"cache/train_test.pickle\",\"rb\")\n",
    "data_dict = pickle.load(train_test_pickle_path)\n",
    "\n",
    "train_x = data_dict['train_x']\n",
    "train_y = data_dict['train_y']\n",
    "test_x = data_dict['test_x']\n",
    "test_y = data_dict['test_y']"
   ]
  },
  {
   "cell_type": "markdown",
   "metadata": {},
   "source": [
    "## Instantiate the model\n",
    "This is the model that was found to be the most effective during the Model Selection process"
   ]
  },
  {
   "cell_type": "code",
   "execution_count": 2,
   "metadata": {},
   "outputs": [],
   "source": [
    "from sklearn.tree import DecisionTreeClassifier\n",
    "\n",
    "decision_tree_classifier = DecisionTreeClassifier(max_depth=4, min_samples_leaf=0.166529153009486, min_samples_split=3)"
   ]
  },
  {
   "cell_type": "code",
   "execution_count": 3,
   "metadata": {},
   "outputs": [],
   "source": [
    "clf = decision_tree_classifier.fit(train_x, train_y) # Use the model selected in the previous step to predict train points\n",
    "\n",
    "p_train = clf.predict(train_x)\n",
    "\n",
    "p_train = p_train.reshape((p_train.shape[0],1))\n"
   ]
  },
  {
   "cell_type": "code",
   "execution_count": 4,
   "metadata": {},
   "outputs": [],
   "source": [
    "z_train = np.hstack((train_x, p_train)) # Store instances that were predicted as MCI\n",
    "z_train_mci = z_train[z_train[:,-1]==1, :]"
   ]
  },
  {
   "cell_type": "code",
   "execution_count": 5,
   "metadata": {},
   "outputs": [],
   "source": [
    "idx = 2\n",
    "\n",
    "class_names = ['Healthy', 'MCI', 'AD']\n",
    "\n",
    "df = test_x\n",
    "\n",
    "test_x = test_x.to_numpy()\n",
    "test_y = test_y.to_numpy()\n"
   ]
  },
  {
   "cell_type": "code",
   "execution_count": 6,
   "metadata": {},
   "outputs": [
    {
     "name": "stdout",
     "output_type": "stream",
     "text": [
      "Chosen Sample: 2\n",
      "Prediction made by the model: MCI\n",
      "Prediction probabilities: [[0. 1. 0.]]\n",
      "\n"
     ]
    }
   ],
   "source": [
    "X = test_x[idx].reshape((1,) + test_x[idx].shape)\n",
    "\n",
    "print(\"Chosen Sample:\", idx)\n",
    "print(\"Prediction made by the model:\", class_names[np.argmax(clf.predict_proba(X))])\n",
    "print(\"Prediction probabilities:\", clf.predict_proba(X))\n",
    "print(\"\")\n",
    "\n",
    "# attach the prediction made by the model to X\n",
    "X = np.hstack((X, clf.predict(X).reshape((1,1))))\n",
    "\n",
    "#Xun = test_x[idx].reshape((1,) + x_test[idx].shape) \n",
    "# dfx = pd.DataFrame.from_records(X.astype('double')) # Create dataframe with original feature values\n",
    "# #dfx[23] = class_names[int(X[0, -1])]\n",
    "# dfx.columns = df.columns\n",
    "# dfx.transpose()"
   ]
  },
  {
   "cell_type": "markdown",
   "metadata": {},
   "source": [
    "#### Apply Protodash"
   ]
  },
  {
   "cell_type": "code",
   "execution_count": 7,
   "metadata": {},
   "outputs": [
    {
     "name": "stdout",
     "output_type": "stream",
     "text": [
      "     pcost       dcost       gap    pres   dres\n",
      " 0:  0.0000e+00 -2.0000e+04  4e+00  1e+00  1e+00\n",
      " 1:  1.7611e+04 -6.5756e+06  1e+03  1e+00  1e+00\n",
      " 2: -1.8164e+04 -1.4525e+07  3e+03  1e+00  1e+00\n",
      " 3:  5.7917e+04 -9.9149e+08  1e+05  1e+00  1e+00\n",
      " 4:  5.2309e+08 -5.3957e+12  1e+09  1e+00  1e+00\n",
      " 5:  5.3082e+08 -5.4570e+12  2e+09  1e+00  1e+00\n",
      " 6:  2.6599e+08 -1.0671e+13  5e+09  1e+00  1e+00\n",
      " 7: -6.6650e+07 -1.0244e+14  3e+10  1e+00  1e+00\n",
      " 8:  5.2092e+08 -1.5503e+15  4e+11  1e+00  1e+00\n",
      " 9:  1.5446e+14 -1.9801e+22  2e+22  4e-13  2e-06\n",
      "10:  1.5446e+14 -1.9801e+20  2e+20  4e-15  2e-06\n",
      "11:  1.5445e+14 -1.9802e+18  2e+18  2e-16  1e-08\n",
      "12:  1.5331e+14 -1.9963e+16  2e+16  2e-16  1e-10\n",
      "13:  8.9938e+13 -2.9284e+14  4e+14  2e-16  2e-12\n",
      "14:  1.4217e+13 -1.6676e+13  3e+13  2e-16  4e-13\n",
      "15:  2.0314e+12 -2.2663e+12  4e+12  2e-16  1e-13\n",
      "16:  2.8833e+11 -3.2941e+11  6e+11  2e-16  3e-14\n",
      "17:  4.0161e+10 -4.8268e+10  9e+10  2e-16  3e-17\n",
      "18:  5.2820e+09 -7.3698e+09  1e+10  3e-16  8e-15\n",
      "19:  5.5013e+08 -1.2493e+09  2e+09  1e-16  8e-16\n",
      "20: -2.8863e+07 -2.7419e+08  2e+08  2e-16  5e-16\n",
      "21: -7.9538e+07 -1.0459e+08  3e+07  8e-17  8e-17\n",
      "22: -8.0935e+07 -8.2708e+07  2e+06  2e-16  2e-16\n",
      "23: -8.1130e+07 -8.3968e+07  3e+06  7e-16  2e-18\n",
      "24: -8.1243e+07 -8.1956e+07  7e+05  2e-16  6e-17\n",
      "25: -8.1327e+07 -8.1466e+07  1e+05  1e-16  2e-16\n",
      "26: -8.1327e+07 -8.1329e+07  2e+03  1e-16  2e-16\n",
      "27: -8.1327e+07 -8.1327e+07  2e+01  8e-17  4e-17\n",
      "Optimal solution found.\n"
     ]
    },
    {
     "name": "stderr",
     "output_type": "stream",
     "text": [
      "/evo970/conda/ibmExp/lib/python3.7/site-packages/cvxopt/coneprog.py:2111: FutureWarning: elementwise comparison failed; returning scalar instead, but in the future will perform elementwise comparison\n",
      "  if 'x' in initvals:\n",
      "/evo970/conda/ibmExp/lib/python3.7/site-packages/cvxopt/coneprog.py:2116: FutureWarning: elementwise comparison failed; returning scalar instead, but in the future will perform elementwise comparison\n",
      "  if 's' in initvals:\n",
      "/evo970/conda/ibmExp/lib/python3.7/site-packages/cvxopt/coneprog.py:2131: FutureWarning: elementwise comparison failed; returning scalar instead, but in the future will perform elementwise comparison\n",
      "  if 'y' in initvals:\n",
      "/evo970/conda/ibmExp/lib/python3.7/site-packages/cvxopt/coneprog.py:2136: FutureWarning: elementwise comparison failed; returning scalar instead, but in the future will perform elementwise comparison\n",
      "  if 'z' in initvals:\n"
     ]
    }
   ],
   "source": [
    "from aix360.algorithms.protodash import ProtodashExplainer\n",
    "\n",
    "explainer = ProtodashExplainer()\n",
    "(W, S, setValues) = explainer.explain(X, z_train_mci, m=5) # Return weights W, Prototypes S and objective function values"
   ]
  },
  {
   "cell_type": "markdown",
   "metadata": {},
   "source": [
    "## Results"
   ]
  },
  {
   "cell_type": "code",
   "execution_count": 8,
   "metadata": {},
   "outputs": [
    {
     "data": {
      "text/html": [
       "<div>\n",
       "<style scoped>\n",
       "    .dataframe tbody tr th:only-of-type {\n",
       "        vertical-align: middle;\n",
       "    }\n",
       "\n",
       "    .dataframe tbody tr th {\n",
       "        vertical-align: top;\n",
       "    }\n",
       "\n",
       "    .dataframe thead th {\n",
       "        text-align: right;\n",
       "    }\n",
       "</style>\n",
       "<table border=\"1\" class=\"dataframe\">\n",
       "  <thead>\n",
       "    <tr style=\"text-align: right;\">\n",
       "      <th></th>\n",
       "      <th>0</th>\n",
       "      <th>1</th>\n",
       "      <th>2</th>\n",
       "      <th>3</th>\n",
       "      <th>4</th>\n",
       "    </tr>\n",
       "  </thead>\n",
       "  <tbody>\n",
       "    <tr>\n",
       "      <th>Fp1_delta_mean</th>\n",
       "      <td>113.476063</td>\n",
       "      <td>19219.587300</td>\n",
       "      <td>20.542651</td>\n",
       "      <td>155.388533</td>\n",
       "      <td>4474.565716</td>\n",
       "    </tr>\n",
       "    <tr>\n",
       "      <th>Fp1_theta_mean</th>\n",
       "      <td>0.889057</td>\n",
       "      <td>22.662003</td>\n",
       "      <td>0.705713</td>\n",
       "      <td>4.329504</td>\n",
       "      <td>13.460706</td>\n",
       "    </tr>\n",
       "    <tr>\n",
       "      <th>Fp1_alpha_mean</th>\n",
       "      <td>0.370064</td>\n",
       "      <td>1.131999</td>\n",
       "      <td>0.836354</td>\n",
       "      <td>356.222337</td>\n",
       "      <td>0.272787</td>\n",
       "    </tr>\n",
       "    <tr>\n",
       "      <th>Fp1_beta_mean</th>\n",
       "      <td>0.021636</td>\n",
       "      <td>0.140163</td>\n",
       "      <td>0.091580</td>\n",
       "      <td>1.065358</td>\n",
       "      <td>0.528827</td>\n",
       "    </tr>\n",
       "    <tr>\n",
       "      <th>Fp1_gamma_mean</th>\n",
       "      <td>0.002600</td>\n",
       "      <td>0.012649</td>\n",
       "      <td>0.007493</td>\n",
       "      <td>0.104261</td>\n",
       "      <td>0.066491</td>\n",
       "    </tr>\n",
       "    <tr>\n",
       "      <th>...</th>\n",
       "      <td>...</td>\n",
       "      <td>...</td>\n",
       "      <td>...</td>\n",
       "      <td>...</td>\n",
       "      <td>...</td>\n",
       "    </tr>\n",
       "    <tr>\n",
       "      <th>Pz_theta_mean</th>\n",
       "      <td>0.212950</td>\n",
       "      <td>1.088364</td>\n",
       "      <td>0.309611</td>\n",
       "      <td>1.060286</td>\n",
       "      <td>0.119045</td>\n",
       "    </tr>\n",
       "    <tr>\n",
       "      <th>Pz_alpha_mean</th>\n",
       "      <td>0.366207</td>\n",
       "      <td>2.009488</td>\n",
       "      <td>0.500757</td>\n",
       "      <td>345.852941</td>\n",
       "      <td>0.033510</td>\n",
       "    </tr>\n",
       "    <tr>\n",
       "      <th>Pz_beta_mean</th>\n",
       "      <td>0.017727</td>\n",
       "      <td>0.178735</td>\n",
       "      <td>0.056373</td>\n",
       "      <td>0.880907</td>\n",
       "      <td>0.003546</td>\n",
       "    </tr>\n",
       "    <tr>\n",
       "      <th>Pz_gamma_mean</th>\n",
       "      <td>0.000539</td>\n",
       "      <td>0.003187</td>\n",
       "      <td>0.001153</td>\n",
       "      <td>0.003029</td>\n",
       "      <td>0.000287</td>\n",
       "    </tr>\n",
       "    <tr>\n",
       "      <th>Weight</th>\n",
       "      <td>0.995337</td>\n",
       "      <td>0.004663</td>\n",
       "      <td>0.000000</td>\n",
       "      <td>0.000000</td>\n",
       "      <td>0.000000</td>\n",
       "    </tr>\n",
       "  </tbody>\n",
       "</table>\n",
       "<p>96 rows × 5 columns</p>\n",
       "</div>"
      ],
      "text/plain": [
       "                         0             1          2           3            4\n",
       "Fp1_delta_mean  113.476063  19219.587300  20.542651  155.388533  4474.565716\n",
       "Fp1_theta_mean    0.889057     22.662003   0.705713    4.329504    13.460706\n",
       "Fp1_alpha_mean    0.370064      1.131999   0.836354  356.222337     0.272787\n",
       "Fp1_beta_mean     0.021636      0.140163   0.091580    1.065358     0.528827\n",
       "Fp1_gamma_mean    0.002600      0.012649   0.007493    0.104261     0.066491\n",
       "...                    ...           ...        ...         ...          ...\n",
       "Pz_theta_mean     0.212950      1.088364   0.309611    1.060286     0.119045\n",
       "Pz_alpha_mean     0.366207      2.009488   0.500757  345.852941     0.033510\n",
       "Pz_beta_mean      0.017727      0.178735   0.056373    0.880907     0.003546\n",
       "Pz_gamma_mean     0.000539      0.003187   0.001153    0.003029     0.000287\n",
       "Weight            0.995337      0.004663   0.000000    0.000000     0.000000\n",
       "\n",
       "[96 rows x 5 columns]"
      ]
     },
     "execution_count": 8,
     "metadata": {},
     "output_type": "execute_result"
    }
   ],
   "source": [
    "dfs = pd.DataFrame.from_records(z_train_mci[S, 0:-1].astype('double'))\n",
    "RP=[]\n",
    "for i in range(S.shape[0]):\n",
    "    RP.append(class_names[int(z_train_mci[S[i], -1])]) # Append class names\n",
    "# dfs[23] = RP\n",
    "dfs.columns = df.columns  \n",
    "dfs[\"Weight\"] = np.around(W, 5)/np.sum(np.around(W, 5)) # Calculate normalized importance weights\n",
    "dfs.transpose()"
   ]
  },
  {
   "cell_type": "markdown",
   "metadata": {},
   "source": [
    "### More Choices for Feature Selection"
   ]
  },
  {
   "cell_type": "markdown",
   "metadata": {},
   "source": [
    "Thus with a better feature selection on the previous step to cut of some of the features the physitian may have a reference from which to take a decition in a more accurate manner"
   ]
  }
 ],
 "metadata": {
  "kernelspec": {
   "display_name": "Python 3",
   "language": "python",
   "name": "python3"
  },
  "language_info": {
   "codemirror_mode": {
    "name": "ipython",
    "version": 3
   },
   "file_extension": ".py",
   "mimetype": "text/x-python",
   "name": "python",
   "nbconvert_exporter": "python",
   "pygments_lexer": "ipython3",
   "version": "3.7.7"
  }
 },
 "nbformat": 4,
 "nbformat_minor": 1
}
